{
 "cells": [
  {
   "cell_type": "markdown",
   "metadata": {},
   "source": [
    "### Web Scraping Using ScrapegraphAI - LLM\n",
    "\n",
    "1) Install ScrapegraphAI\n",
    "2) Playwright"
   ]
  },
  {
   "cell_type": "code",
   "execution_count": 1,
   "metadata": {},
   "outputs": [
    {
     "name": "stderr",
     "output_type": "stream",
     "text": [
      "r:\\Projects\\ScrapwithLLM\\venv\\lib\\site-packages\\tqdm\\auto.py:21: TqdmWarning: IProgress not found. Please update jupyter and ipywidgets. See https://ipywidgets.readthedocs.io/en/stable/user_install.html\n",
      "  from .autonotebook import tqdm as notebook_tqdm\n"
     ]
    }
   ],
   "source": [
    "from scrapegraphai.graphs import SmartScraperGraph\n",
    "from dotenv import load_dotenv\n",
    "import os\n",
    "import nest_asyncio"
   ]
  },
  {
   "cell_type": "code",
   "execution_count": 2,
   "metadata": {},
   "outputs": [
    {
     "data": {
      "text/plain": [
       "True"
      ]
     },
     "execution_count": 2,
     "metadata": {},
     "output_type": "execute_result"
    }
   ],
   "source": [
    "load_dotenv()"
   ]
  },
  {
   "cell_type": "code",
   "execution_count": 14,
   "metadata": {},
   "outputs": [],
   "source": [
    "graph_config = {\n",
    "    \n",
    "    \"llm\":{\n",
    "        \"model\": \"ollama/llama2\",\n",
    "        \"verbose\":True,\n",
    "        \"temperature\":0,\n",
    "        \"base_url\" : \"http://localhost:11434\",\n",
    "        \"format\":\"json\"\n",
    "    },\n",
    "    \n",
    "    \"embeddings\":{\n",
    "        \"model\": \"ollama/nomic-embed-text\",\n",
    "        \"base_url\" : \"http://localhost:11434\"\n",
    "    }\n",
    "\n",
    "}\n"
   ]
  },
  {
   "cell_type": "code",
   "execution_count": 15,
   "metadata": {},
   "outputs": [],
   "source": [
    "smartscraper = SmartScraperGraph(\n",
    "    prompt=\"List all the article\",\n",
    "    source=\"https://www.reddit.com/r/youtube/\",\n",
    "    config=graph_config\n",
    ")"
   ]
  },
  {
   "cell_type": "code",
   "execution_count": 16,
   "metadata": {},
   "outputs": [],
   "source": [
    "nest_asyncio.apply()"
   ]
  },
  {
   "cell_type": "code",
   "execution_count": null,
   "metadata": {},
   "outputs": [],
   "source": [
    "res = smartscraper.run()\n",
    "print(res)"
   ]
  }
 ],
 "metadata": {
  "kernelspec": {
   "display_name": "venv",
   "language": "python",
   "name": "python3"
  },
  "language_info": {
   "codemirror_mode": {
    "name": "ipython",
    "version": 3
   },
   "file_extension": ".py",
   "mimetype": "text/x-python",
   "name": "python",
   "nbconvert_exporter": "python",
   "pygments_lexer": "ipython3",
   "version": "3.9.6"
  }
 },
 "nbformat": 4,
 "nbformat_minor": 2
}
